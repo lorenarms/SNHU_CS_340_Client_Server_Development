{
 "cells": [
  {
   "cell_type": "code",
   "execution_count": 4,
   "metadata": {
    "scrolled": true
   },
   "outputs": [
    {
     "name": "stderr",
     "output_type": "stream",
     "text": [
      "C:\\Users\\Lawrence\\AppData\\Local\\Temp\\ipykernel_16052\\137642113.py:5: UserWarning: \n",
      "The dash_core_components package is deprecated. Please replace\n",
      "`import dash_core_components as dcc` with `from dash import dcc`\n",
      "  import dash_core_components as dcc\n",
      "C:\\Users\\Lawrence\\AppData\\Local\\Temp\\ipykernel_16052\\137642113.py:6: UserWarning: \n",
      "The dash_html_components package is deprecated. Please replace\n",
      "`import dash_html_components as html` with `from dash import html`\n",
      "  import dash_html_components as html\n",
      "C:\\Users\\Lawrence\\AppData\\Local\\Temp\\ipykernel_16052\\137642113.py:8: UserWarning: \n",
      "The dash_table package is deprecated. Please replace\n",
      "`import dash_table` with `from dash import dash_table`\n",
      "\n",
      "Also, if you're using any of the table format helpers (e.g. Group), replace \n",
      "`from dash_table.Format import Group` with \n",
      "`from dash.dash_table.Format import Group`\n",
      "  import dash_table\n"
     ]
    },
    {
     "data": {
      "text/html": [
       "<div>\n",
       "  <iframe src=\"/app/endpoints/887362e2fb624643b05ebf1f3fc27402/\" width=800 height=600 frameborder=\"0\"></iframe>\n",
       "  <hr/><a href=\"/app/endpoints/887362e2fb624643b05ebf1f3fc27402/\" target=\"_new\">Open in new window</a> for /app/endpoints/887362e2fb624643b05ebf1f3fc27402/\n",
       "</div>"
      ],
      "text/plain": [
       "<jupyter_plotly_dash.dash_wrapper.JupyterDash at 0x1f910567040>"
      ]
     },
     "execution_count": 4,
     "metadata": {},
     "output_type": "execute_result"
    }
   ],
   "source": [
    "from jupyter_plotly_dash import JupyterDash\n",
    "\n",
    "import dash\n",
    "import dash_leaflet as dl\n",
    "import dash_core_components as dcc\n",
    "import dash_html_components as html\n",
    "import plotly.express as px\n",
    "import dash_table\n",
    "from dash.dependencies import Input, Output\n",
    "\n",
    "\n",
    "import numpy as np\n",
    "import pandas as pd\n",
    "import matplotlib.pyplot as plt\n",
    "from pymongo import MongoClient\n",
    "\n",
    "\n",
    "#### FIX ME #####\n",
    "from aacCRUD import CRUD\n",
    "\n",
    "\n",
    "###########################\n",
    "# Data Manipulation / Model\n",
    "###########################\n",
    "\n",
    "usr = 'aacuser'\n",
    "pw = 'yh0okRBJkaFVCJnw'\n",
    "\n",
    "str = \"mongodb+srv://\" + usr + \":\" + pw + \"@cluster0.cyqsq.\" + \"mongodb.net/?retryWrites=true&w=majority\"\n",
    "#shelter = CRUD(str, 'AAC', 'animals')\n",
    "shelter = CRUD('mongodb://localhost:27017', 'AAC', 'animals')\n",
    "\n",
    "df = pd.DataFrame.from_records((shelter.readAll({})))\n",
    "\n",
    "\n",
    "\n",
    "\n",
    "\n",
    "\n",
    "#########################\n",
    "# Dashboard Layout / View\n",
    "#########################\n",
    "app = JupyterDash('SimpleExample')\n",
    "\n",
    "app.layout = html.Div([\n",
    "    html.Div(id='hidden-div', style={'display':'none'}),\n",
    "    html.Center(html.B(html.H1('SNHU CS-340 Dashboard'))),\n",
    "    html.Hr(),\n",
    "    dash_table.DataTable(\n",
    "        id='datatable-id',\n",
    "        columns=[\n",
    "            {\"name\": i, \"id\": i, \"deletable\": False, \"selectable\": True} for i in df.columns\n",
    "        ],\n",
    "        data=df.to_dict('records'),\n",
    "        #FIXME: Set up the features for your interactive data table to make it user-friendly for your client\n",
    "\n",
    "    ),\n",
    "    html.Br(),\n",
    "     html.Hr(),\n",
    "     html.Div(\n",
    "            id='map-id',\n",
    "            className='col s12 m6',\n",
    "            )\n",
    "])\n",
    "\n",
    "#############################################\n",
    "# Interaction Between Components / Controller\n",
    "#############################################\n",
    "#This callback will highlight a row on the data table when the user selects it\n",
    "@app.callback(\n",
    "    Output('datatable-id', 'style_data_conditional'),\n",
    "    [Input('datatable-id', 'selected_columns')]\n",
    ")\n",
    "def update_styles(selected_columns):\n",
    "    return [{\n",
    "        'if': { 'column_id': i },\n",
    "        'background_color': '#D2F3FF'\n",
    "    } for i in selected_columns]\n",
    "\n",
    "\n",
    "\n",
    "    \n",
    "\n",
    "app"
   ]
  },
  {
   "cell_type": "code",
   "execution_count": null,
   "metadata": {},
   "outputs": [],
   "source": []
  },
  {
   "cell_type": "code",
   "execution_count": null,
   "metadata": {},
   "outputs": [],
   "source": []
  }
 ],
 "metadata": {
  "kernelspec": {
   "display_name": "Python 3 (ipykernel)",
   "language": "python",
   "name": "python3"
  },
  "language_info": {
   "codemirror_mode": {
    "name": "ipython",
    "version": 3
   },
   "file_extension": ".py",
   "mimetype": "text/x-python",
   "name": "python",
   "nbconvert_exporter": "python",
   "pygments_lexer": "ipython3",
   "version": "3.10.5"
  }
 },
 "nbformat": 4,
 "nbformat_minor": 2
}
