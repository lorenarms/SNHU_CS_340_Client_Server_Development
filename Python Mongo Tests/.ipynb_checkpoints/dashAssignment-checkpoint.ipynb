{
 "cells": [
  {
   "cell_type": "code",
   "execution_count": 1,
   "metadata": {},
   "outputs": [
    {
     "name": "stderr",
     "output_type": "stream",
     "text": [
      "C:\\Users\\Lawrence\\AppData\\Local\\Temp\\ipykernel_15196\\3842808899.py:3: UserWarning: \n",
      "The dash_html_components package is deprecated. Please replace\n",
      "`import dash_html_components as html` with `from dash import html`\n",
      "  import dash_html_components as html\n"
     ]
    },
    {
     "data": {
      "text/html": [
       "<div>\n",
       "  <iframe src=\"/app/endpoints/3e4189dc517146ce9c180b1a8c4376e8/\" width=800 height=600 frameborder=\"0\"></iframe>\n",
       "  <hr/><a href=\"/app/endpoints/3e4189dc517146ce9c180b1a8c4376e8/\" target=\"_new\">Open in new window</a> for /app/endpoints/3e4189dc517146ce9c180b1a8c4376e8/\n",
       "</div>"
      ],
      "text/plain": [
       "<jupyter_plotly_dash.dash_wrapper.JupyterDash at 0x14b71e09ff0>"
      ]
     },
     "execution_count": 1,
     "metadata": {},
     "output_type": "execute_result"
    }
   ],
   "source": [
    "import jupyterlab_dash\n",
    "import dash\n",
    "import dash_html_components as html\n",
    "from jupyter_plotly_dash import JupyterDash\n",
    "from dash import dcc\n",
    "from dash import html\n",
    "import dash\n",
    "from dash.dependencies import Input, Output\n",
    "\n",
    "from pymongo import MongoClient\n",
    "import urllib.parse\n",
    "from bson.json_util import dumps, loads\n",
    "import json\n",
    "\n",
    "#TODO: import for their CRUD module\n",
    "\n",
    "from aacCRUD import CRUD\n",
    "\n",
    "\n",
    "# this is a juypter dash application\n",
    "app = JupyterDash('ModuleFive')\n",
    "\n",
    "# the application interfaces are declared here\n",
    "# this application has two input boxes, a submit button, a horizontal line and div for output\n",
    "app.layout = html.Div(\n",
    "    [\n",
    "        html.B(html.H1('Welcome!')),\n",
    "        html.P('Please enter your credentials...'),\n",
    "        dcc.Input(\n",
    "            id=\"input_user\".format(\"text\"),\n",
    "            type=\"text\",\n",
    "            placeholder=\"input type {}\".format(\"text\")),\n",
    "        dcc.Input(\n",
    "            id=\"input_passwd\".format(\"password\"),\n",
    "            type=\"password\",\n",
    "            placeholder=\"input type {}\".format(\"password\")),\n",
    "        html.Button('Execute', id='submit-val', n_clicks=0),\n",
    "        \n",
    "    html.Hr(),\n",
    "    html.Div(id=\"query-out\"),\n",
    "    #TODO: insert unique identifier code here\n",
    "    ]\n",
    ")\n",
    "\n",
    "# this is area to define application responses or callback routines\n",
    "# this one callback will take the entered text and if the submit button is clicked then call the \n",
    "#  mongo database with the find_one query and return the result to the output div\n",
    "@app.callback(\n",
    "    Output(\"query-out\", \"children\"),\n",
    "    [Input(\"input_user\".format(\"text\"), \"value\"), \n",
    "     Input(\"input_passwd\".format(\"password\"),\"value\"),\n",
    "     Input('submit-val', 'n_clicks')],\n",
    "    [dash.dependencies.State('input_passwd', 'value')]\n",
    ")\n",
    "def cb_render(userValue,passValue,n_clicks,buttonValue):\n",
    "    if n_clicks > 0:\n",
    "        ###########################\n",
    "        # Data Manipulation / Model\n",
    "        # use CRUD module to access MongoDB\n",
    "        ##########################\n",
    "        username = urllib.parse.quote_plus(userValue)\n",
    "        password = urllib.parse.quote_plus(passValue)\n",
    "        #TODO: Instantiate CRUD object with above authentication username and password values\n",
    "        \n",
    "        a = CRUD('mongodb://localhost:27017')\n",
    "        \n",
    "        app.layout = html.Div([\n",
    "            html.P('Database accessed')\n",
    "        ])\n",
    "        \n",
    "\n",
    "        # note that MongoDB returns BSON, the pyMongo JSON utility function dumps is used to convert to text\n",
    "        #TODO: Return example query results\n",
    "\n",
    "\n",
    "\n",
    "app\n"
   ]
  },
  {
   "cell_type": "code",
   "execution_count": null,
   "metadata": {},
   "outputs": [],
   "source": []
  }
 ],
 "metadata": {
  "kernelspec": {
   "display_name": "Python 3 (ipykernel)",
   "language": "python",
   "name": "python3"
  },
  "language_info": {
   "codemirror_mode": {
    "name": "ipython",
    "version": 3
   },
   "file_extension": ".py",
   "mimetype": "text/x-python",
   "name": "python",
   "nbconvert_exporter": "python",
   "pygments_lexer": "ipython3",
   "version": "3.10.5"
  }
 },
 "nbformat": 4,
 "nbformat_minor": 4
}
