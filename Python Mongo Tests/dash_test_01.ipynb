{
 "cells": [
  {
   "cell_type": "code",
   "execution_count": 4,
   "id": "9e9a3d10",
   "metadata": {},
   "outputs": [
    {
     "name": "stdout",
     "output_type": "stream",
     "text": [
      "LOCAL\n",
      "SUCCESS - {\"name\": \"Lorenzo\"} was successfully added.\n",
      "SUCCESS - {\"name\": \"Lorenzo\"} was found\n",
      "*** 1 total document(s) containing {\"name\": \"Lorenzo\"} were found\n",
      "SUCCESS - updated {\"name\": \"Lorenzo\"} to {\"name\": \"Lawrence\"}\n",
      "SUCCESS - {\"name\": \"Lawrence\"} was found\n",
      "SUCCESS - {\"name\": \"Lawrence\"} was found\n",
      "SUCCESS - {\"name\": \"Lawrence\"} was found\n",
      "*** 3 total document(s) containing {\"name\": \"Lawrence\"} were found\n",
      "ERROR - {\"name\": \"Lorenzo\"} was not found\n",
      "ALL DATA\n",
      "<pymongo.cursor.Cursor object at 0x000002446DBBB7F0>\n",
      "SUCCESS - {\"name\": \"Lawrence\"} deleted\n",
      "SUCCESS - {\"name\": \"Lawrence\"} was found\n",
      "SUCCESS - {\"name\": \"Lawrence\"} was found\n",
      "*** 2 total document(s) containing {\"name\": \"Lawrence\"} were found\n"
     ]
    },
    {
     "data": {
      "text/plain": [
       "<pymongo.cursor.Cursor at 0x2444cda4880>"
      ]
     },
     "execution_count": 4,
     "metadata": {},
     "output_type": "execute_result"
    }
   ],
   "source": [
    "import jupyterlab_dash\n",
    "import dash\n",
    "from jupyter_plotly_dash import JupyterDash\n",
    "from dash import dcc\n",
    "from dash import html\n",
    "from dash.dependencies import Input, Output\n",
    "import plotly.express as px\n",
    "\n",
    "from pymongo import MongoClient\n",
    "from bson.json_util import dumps, loads\n",
    "\n",
    "import numpy as np\n",
    "import pandas as pd\n",
    "\n",
    "from aacCRUD import CRUD\n",
    "\n",
    "a = CRUD('mongodb://localhost:27017', 'AAC', 'animals')\n",
    "\n",
    "print(\"LOCAL\")\n",
    "#create new document\n",
    "a.create({\"name\":\"Lorenzo\"})\n",
    "#find created document\n",
    "a.read({\"name\":\"Lorenzo\"})\n",
    "#update name of document\n",
    "a.update({\"name\":\"Lorenzo\"}, {\"name\":\"Lawrence\"})\n",
    "#find updated document\n",
    "s = a.read({\"name\":\"Lawrence\"})\n",
    "#find old version of updated document\n",
    "a.read({\"name\":\"Lorenzo\"})\n",
    "\n",
    "\n",
    "print(\"ALL DATA\")\n",
    "for doc in s:\n",
    "\tprint(doc)\n",
    "print(s)\n",
    "\n",
    "#delete document\n",
    "a.delete({\"name\":\"Lawrence\"})\n",
    "#find deleted document\n",
    "a.read({\"name\":\"Lawrence\"})\n"
   ]
  },
  {
   "cell_type": "code",
   "execution_count": null,
   "id": "4e960f7b",
   "metadata": {},
   "outputs": [],
   "source": []
  }
 ],
 "metadata": {
  "kernelspec": {
   "display_name": "Python 3 (ipykernel)",
   "language": "python",
   "name": "python3"
  },
  "language_info": {
   "codemirror_mode": {
    "name": "ipython",
    "version": 3
   },
   "file_extension": ".py",
   "mimetype": "text/x-python",
   "name": "python",
   "nbconvert_exporter": "python",
   "pygments_lexer": "ipython3",
   "version": "3.10.5"
  }
 },
 "nbformat": 4,
 "nbformat_minor": 5
}
