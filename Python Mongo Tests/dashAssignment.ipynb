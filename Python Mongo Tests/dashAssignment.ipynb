{
 "cells": [
  {
   "cell_type": "code",
   "execution_count": 1,
   "metadata": {},
   "outputs": [
    {
     "data": {
      "text/html": [
       "<div>\n",
       "  <iframe src=\"/app/endpoints/a069ed6989d240e0a6462dbb1fc88ffc/\" width=800 height=600 frameborder=\"0\"></iframe>\n",
       "  <hr/><a href=\"/app/endpoints/a069ed6989d240e0a6462dbb1fc88ffc/\" target=\"_new\">Open in new window</a> for /app/endpoints/a069ed6989d240e0a6462dbb1fc88ffc/\n",
       "</div>"
      ],
      "text/plain": [
       "<jupyter_plotly_dash.dash_wrapper.JupyterDash at 0x25d578764d0>"
      ]
     },
     "execution_count": 1,
     "metadata": {},
     "output_type": "execute_result"
    }
   ],
   "source": [
    "import jupyterlab_dash\n",
    "import dash\n",
    "from jupyter_plotly_dash import JupyterDash\n",
    "from dash import dcc\n",
    "from dash import html\n",
    "import dash\n",
    "from dash.dependencies import Input, Output\n",
    "\n",
    "from pymongo import MongoClient\n",
    "import urllib.parse\n",
    "from bson.json_util import dumps, loads\n",
    "import json\n",
    "\n",
    "#TODO: import for their CRUD module\n",
    "\n",
    "from aacCRUD import CRUD\n",
    "\n",
    "import numpy as np\n",
    "import pandas as pd\n",
    "\n",
    "\n",
    "# this is a juypter dash application\n",
    "app = JupyterDash('ModuleFive')\n",
    "\n",
    "# the application interfaces are declared here\n",
    "# this application has two input boxes, a submit button, a horizontal line and div for output\n",
    "\n",
    "app.layout = html.Div(\n",
    "    [\n",
    "        html.B(html.H1('Welcome!')),\n",
    "        \n",
    "        html.P('Please enter your credentials...'),\n",
    "        dcc.Input(\n",
    "            id=\"input_user\".format(\"text\"),\n",
    "            type=\"text\",\n",
    "            placeholder=\"input type {}\".format(\"text\")),\n",
    "        dcc.Input(\n",
    "            id=\"input_passwd\".format(\"password\"),\n",
    "            type=\"password\",\n",
    "            placeholder=\"input type {}\".format(\"password\")),\n",
    "        html.Button('Execute', id='submit-val', n_clicks=0),\n",
    "        \n",
    "    html.Hr(),\n",
    "    html.Div(id=\"query-out\"),\n",
    "        \n",
    "    #TODO: insert unique identifier code here\n",
    "        \n",
    "    ]\n",
    ")\n",
    "\n",
    "# this is area to define application responses or callback routines\n",
    "# this one callback will take the entered text and if the submit button is clicked then call the \n",
    "#  mongo database with the find_one query and return the result to the output div\n",
    "@app.callback(\n",
    "    Output(\"query-out\", \"children\"),\n",
    "    [Input(\"input_user\".format(\"text\"), \"value\"), \n",
    "     Input(\"input_passwd\".format(\"password\"),\"value\"),\n",
    "     Input('submit-val', 'n_clicks')],\n",
    "    [dash.dependencies.State('input_passwd', 'value')]\n",
    ")\n",
    "def cb_render(userValue,passValue,n_clicks,buttonValue):\n",
    "    if n_clicks > 0:\n",
    "        ###########################\n",
    "        # Data Manipulation / Model\n",
    "        # use CRUD module to access MongoDB\n",
    "        ##########################\n",
    "        usr = urllib.parse.quote_plus(userValue)\n",
    "        pw = urllib.parse.quote_plus(passValue)\n",
    "        #TODO: Instantiate CRUD object with above authentication username and password values\n",
    "        \n",
    "        str = \"mongodb+srv://\" + usr + \":\" + pw + \"@cluster0.cyqsq.\" + \"mongodb.net/?retryWrites=true&w=majority\"\n",
    "        c = CRUD(str)\n",
    "        s = dumps(c.read({\"name\":\"Frank\"}))\n",
    "        return s\n",
    "        \n",
    "        \n",
    "\n",
    "        \n",
    "\n",
    "        # note that MongoDB returns BSON, the pyMongo JSON utility function dumps is used to convert to text\n",
    "        #TODO: Return example query results\n",
    "        \n",
    "\n",
    "app\n"
   ]
  },
  {
   "cell_type": "code",
   "execution_count": null,
   "metadata": {},
   "outputs": [],
   "source": []
  }
 ],
 "metadata": {
  "kernelspec": {
   "display_name": "Python 3 (ipykernel)",
   "language": "python",
   "name": "python3"
  },
  "language_info": {
   "codemirror_mode": {
    "name": "ipython",
    "version": 3
   },
   "file_extension": ".py",
   "mimetype": "text/x-python",
   "name": "python",
   "nbconvert_exporter": "python",
   "pygments_lexer": "ipython3",
   "version": "3.10.5"
  }
 },
 "nbformat": 4,
 "nbformat_minor": 4
}
